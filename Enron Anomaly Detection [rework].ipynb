{
 "cells": [
  {
   "cell_type": "markdown",
   "metadata": {},
   "source": [
    "## Introduction"
   ]
  },
  {
   "cell_type": "markdown",
   "metadata": {},
   "source": [
    "I use the Enron Corpus, found here: https://www.kaggle.com/wcukierski/enron-email-dataset, to try to replicate the analysis from this paper:\n",
    "\n",
    "Volodymyr Miz, Benjamin Ricaud, Kirell Benzi, and Pierre Vandergheynst. 2019. Anomaly detection in the dynamics of web and social networks. In Proceedings of May 13-17 (TheWebConf 2019). , 10 pages. https://doi.org/10.475/123_4\n",
    "\n",
    "They were able to detect four periods of anamoly within the corpus data by treating the social network of email communications as a Hopfield Memory Network. They start by building a graph of email addresses as nodes and emails sent as edges. The attributes of the graph they built are described more specifically here:\n",
    "https://zenodo.org/record/1342353#.Xap5medKjMJ\n",
    "\n",
    "In order to better understand how to clean the data I also followed:\n",
    "\n",
    "Shetty, Jitesh & Adibi, Jafar. (2004). The Enron email dataset database schema and brief statistical report. http://citeseerx.ist.psu.edu/viewdoc/download?doi=10.1.1.296.9477&rep=rep1&type=pdf\n",
    "\n",
    "Table of Contents:\n",
    "\n",
    "I. Attempt to duplicate the graph built by Miz, Ricaud, Benzi, Vandergheynst (2019), now called official data.\n",
    "\n",
    "II. Attempt to duplicate the spatio-temporal analysis that they perform to catch the anomalies. \n",
    "\n",
    "III. Analysis of the activity of the anomalous clusters"
   ]
  },
  {
   "cell_type": "markdown",
   "metadata": {},
   "source": [
    "## 0. Import Libraries"
   ]
  },
  {
   "cell_type": "code",
   "execution_count": 2,
   "metadata": {},
   "outputs": [],
   "source": [
    "# Libraries for data analysis\n",
    "import numpy as np\n",
    "import pandas as pd\n",
    "\n",
    "from matplotlib import pyplot as plt\n",
    "%matplotlib inline\n",
    "\n",
    "import seaborn as sns\n",
    "sns.set_style('darkgrid')\n",
    "\n",
    "import re\n",
    "from datetime import datetime\n",
    "from collections import defaultdict \n",
    "\n",
    "import networkx as nx\n",
    "from nxviz import CircosPlot\n",
    "\n",
    "import random\n",
    "from operator import sub\n",
    "import math\n",
    "import statistics\n",
    "import ast"
   ]
  },
  {
   "cell_type": "markdown",
   "metadata": {},
   "source": [
    "# I. Duplicate Graph"
   ]
  },
  {
   "cell_type": "code",
   "execution_count": 2,
   "metadata": {},
   "outputs": [],
   "source": [
    "# Defining a function to take the message column from the Dataframe of emails and extract three Pandas Series containing: the date of the email, the addresses that the email is from, the addresses that the email is sent to\n",
    "# The data, from, and to data of the emails is what we need to generate the graph of our social network\n",
    "def get_date_from_to(Series):\n",
    "    # Generate three empty Pandas Series to hold the data we will output\n",
    "    result_date = pd.Series(index=Series.index)\n",
    "    result_from = pd.Series(index=Series.index)\n",
    "    result_to = pd.Series(index=Series.index)\n",
    "    # Since this process takes some time with the full data, this is a tracking function \n",
    "    for row, message in enumerate(Series):\n",
    "        if row % 10000 == 0:\n",
    "            print(f'Row: {row} starting at {datetime.now()}.')\n",
    "        # The message data is fairly simple and split predictable by lines\n",
    "        message_words = message.split('\\n')\n",
    "        # Data is generally in the second line\n",
    "        if 'Date:' in message_words[1]:\n",
    "            result_date[row] = message_words[1].replace('Date:', '')\n",
    "        else:\n",
    "            result_date[row] = np.nan\n",
    "        # From addresses are generally in the third line, below is a regex to find email addresses\n",
    "        if 'From:' in message_words[2]:\n",
    "            result_from[row] = re.findall('[\\w\\.-]+@[\\w\\.-]+\\.\\w+', message_words[2])\n",
    "        else:\n",
    "            result_from[row] = np.nan\n",
    "        # To addresses are generally in the fourth line, below is a regex to find email addresses\n",
    "        if 'To:' in message_words[3]:\n",
    "            result_to[row] = re.findall('[\\w\\.-]+@[\\w\\.-]+\\.\\w+', message_words[3]) \n",
    "        else:\n",
    "            result_to[row] = np.nan\n",
    "    # We convert the data times to the format of days after Jan 1, 1999 consistent with how data is stored by Miz, Ricaud, Benzi, Vandergheynst (2019).\n",
    "    print('Converting Dates.')\n",
    "    result_date = pd.to_datetime(result_date)\n",
    "    result_date = result_date - datetime(1999,1,1) # As in the paper, will drop values before Jan 1, 1999\n",
    "    return result_date, result_from, result_to"
   ]
  },
  {
   "cell_type": "code",
   "execution_count": 3,
   "metadata": {},
   "outputs": [],
   "source": [
    "# This generates a graph with nodes for email addresses, edges if an email is sent once, and a time lapse dictionary associated with each node capturing how many emails were sent on what days\n",
    "def gen_graph(date_from_to):\n",
    "    G = nx.Graph()\n",
    "    for index, row in date_from_to.iterrows():\n",
    "        for sender in row.senders:\n",
    "            if sender not in G:\n",
    "                G.add_node(sender)\n",
    "            for recipient in row.recipients:\n",
    "                if recipient not in G:\n",
    "                    G.add_node(recipient)\n",
    "                if not(G.has_edge(sender, recipient)):\n",
    "                    G.add_edge(sender, recipient)\n",
    "                G.node[sender][row.date.days] = G.node[sender].get(row.date.days, 0) + 1\n",
    "    return G"
   ]
  },
  {
   "cell_type": "code",
   "execution_count": 4,
   "metadata": {},
   "outputs": [],
   "source": [
    "def map_nodes_to_int(G):\n",
    "    nodes = G.nodes\n",
    "    mapping = {}\n",
    "    node_index = 0\n",
    "    for node in nodes:\n",
    "        mapping[node] = node_index\n",
    "        node_index+=1\n",
    "    H = nx.relabel_nodes(G, mapping)\n",
    "    return H, mapping  "
   ]
  },
  {
   "cell_type": "code",
   "execution_count": 6,
   "metadata": {},
   "outputs": [],
   "source": [
    "# Miz, Ricaud, Benzi, Vandergheynst (2019) filtered out any email addresses that didn't send more than 3 emails\n",
    "def filter_graph_down(G, min_emails=4):\n",
    "    nodes_to_keep = []\n",
    "    nodes = G.nodes\n",
    "    for key, values in nodes.items():\n",
    "        if sum(values.values()) >= min_emails:\n",
    "            nodes_to_keep.append(key)\n",
    "    sub_G = G.subgraph(nodes_to_keep)\n",
    "    return sub_G"
   ]
  },
  {
   "cell_type": "code",
   "execution_count": 5,
   "metadata": {},
   "outputs": [],
   "source": [
    "# Reading in emails\n",
    "emails = pd.read_csv('emails.csv')"
   ]
  },
  {
   "cell_type": "code",
   "execution_count": 9,
   "metadata": {},
   "outputs": [
    {
     "name": "stdout",
     "output_type": "stream",
     "text": [
      "Row: 0 starting at 2019-11-19 14:53:53.829113.\n",
      "Row: 10000 starting at 2019-11-19 14:53:54.887632.\n",
      "Row: 20000 starting at 2019-11-19 14:53:55.942886.\n",
      "Row: 30000 starting at 2019-11-19 14:53:56.442161.\n",
      "Row: 40000 starting at 2019-11-19 14:53:57.133102.\n",
      "Row: 50000 starting at 2019-11-19 14:53:58.193815.\n",
      "Row: 60000 starting at 2019-11-19 14:53:58.761066.\n",
      "Row: 70000 starting at 2019-11-19 14:53:59.760541.\n",
      "Row: 80000 starting at 2019-11-19 14:54:00.186859.\n",
      "Row: 90000 starting at 2019-11-19 14:54:00.736105.\n",
      "Row: 100000 starting at 2019-11-19 14:54:01.146841.\n",
      "Row: 110000 starting at 2019-11-19 14:54:01.649933.\n",
      "Row: 120000 starting at 2019-11-19 14:54:02.440419.\n",
      "Row: 130000 starting at 2019-11-19 14:54:03.123122.\n",
      "Row: 140000 starting at 2019-11-19 14:54:03.575431.\n",
      "Row: 150000 starting at 2019-11-19 14:54:04.095484.\n",
      "Row: 160000 starting at 2019-11-19 14:54:04.594701.\n",
      "Row: 170000 starting at 2019-11-19 14:54:05.261858.\n",
      "Row: 180000 starting at 2019-11-19 14:54:05.858063.\n",
      "Row: 190000 starting at 2019-11-19 14:54:06.220688.\n",
      "Row: 200000 starting at 2019-11-19 14:54:06.904033.\n",
      "Row: 210000 starting at 2019-11-19 14:54:07.341307.\n",
      "Row: 220000 starting at 2019-11-19 14:54:07.958553.\n",
      "Row: 230000 starting at 2019-11-19 14:54:08.361247.\n",
      "Row: 240000 starting at 2019-11-19 14:54:08.764725.\n",
      "Row: 250000 starting at 2019-11-19 14:54:09.203054.\n",
      "Row: 260000 starting at 2019-11-19 14:54:09.606893.\n",
      "Row: 270000 starting at 2019-11-19 14:54:10.039794.\n",
      "Row: 280000 starting at 2019-11-19 14:54:10.791288.\n",
      "Row: 290000 starting at 2019-11-19 14:54:11.286718.\n",
      "Row: 300000 starting at 2019-11-19 14:54:12.337010.\n",
      "Row: 310000 starting at 2019-11-19 14:54:12.938221.\n",
      "Row: 320000 starting at 2019-11-19 14:54:13.349353.\n",
      "Row: 330000 starting at 2019-11-19 14:54:13.748598.\n",
      "Converting Dates.\n",
      "330689\n"
     ]
    }
   ],
   "source": [
    "# Dropping dups and auto created emails\n",
    "# Generating table of dates, senders, receivers\n",
    "emails_nodups = emails[~emails.file.str.contains('discussion_thread')]\n",
    "emails_noautos = emails_nodups[~emails_nodups.file.str.contains('all_documents')]\n",
    "emails_noautos = emails_noautos.reset_index()\n",
    "date_from_to = pd.DataFrame()\n",
    "date_from_to['date'], date_from_to['senders'], date_from_to['recipients'] = get_date_from_to(emails_noautos.message) \n",
    "print(len(date_from_to))"
   ]
  },
  {
   "cell_type": "code",
   "execution_count": 10,
   "metadata": {},
   "outputs": [
    {
     "name": "stdout",
     "output_type": "stream",
     "text": [
      "330689\n",
      "313191\n"
     ]
    }
   ],
   "source": [
    "# Filtering out naan entries\n",
    "# Filtering out entries before Jan 1, 1999\n",
    "# Filtering out entries after July 31, 2002\n",
    "print(len(date_from_to))\n",
    "date_from_to.dropna(inplace=True)\n",
    "date_from_to = date_from_to[date_from_to.date >= pd.Timedelta(0)]\n",
    "date_from_to = date_from_to[date_from_to.date <= pd.Timedelta(days=1448)] # Dropping emails after 31 July 2002\n",
    "print(len(date_from_to))"
   ]
  },
  {
   "cell_type": "code",
   "execution_count": 113,
   "metadata": {},
   "outputs": [],
   "source": [
    "# Generating initial Graph\n",
    "G_init = gen_graph(date_from_to)"
   ]
  },
  {
   "cell_type": "code",
   "execution_count": 114,
   "metadata": {},
   "outputs": [
    {
     "name": "stdout",
     "output_type": "stream",
     "text": [
      "34897\n",
      "87780\n"
     ]
    }
   ],
   "source": [
    "# Filtering out nodes with 3 or fewer emails sent during time period\n",
    "G_emails = filter_graph_down(G_init, min_emails=4) "
   ]
  },
  {
   "cell_type": "code",
   "execution_count": 115,
   "metadata": {},
   "outputs": [],
   "source": [
    "G_mapped, mapping = map_nodes_to_int(G_emails)"
   ]
  },
  {
   "cell_type": "code",
   "execution_count": 116,
   "metadata": {},
   "outputs": [
    {
     "name": "stdout",
     "output_type": "stream",
     "text": [
      "7125\n",
      "47097\n"
     ]
    }
   ],
   "source": [
    "print(nx.number_of_nodes(G_mapped))\n",
    "print(nx.number_of_edges(G_mapped))"
   ]
  },
  {
   "cell_type": "markdown",
   "metadata": {},
   "source": [
    "The graph generated by Miz, Ricaud, Benzi, Vandergheynst (2019), had 6600 nodes and 50,897 edges. I wasn't able to perfectly duplicate this result, but in order to get close I had to do things like drop automatically sent emails and I had to drop some duplicated emails as in Shetty, Adibi (2004). The day numbers differ slightly between our two sets as well (by 3 days), I'm not sure why this is. In the next part I will use both my data and the data provided by Miz, Ricaud, Benzi, Vandergheynst (2019) to perform the ML analysis. \n",
    "\n",
    "Note: Turns out that the reason my data is off is because I kept all emails that either sent or received 3 emails. Miz, Ricaud, Benzi, Vandergheynst (2019) only kept nodes that sent 3 emails. I'm going to use their data from now moving forward. But this was a good exercise. Below is their data."
   ]
  },
  {
   "cell_type": "code",
   "execution_count": 3,
   "metadata": {
    "scrolled": true
   },
   "outputs": [
    {
     "name": "stdout",
     "output_type": "stream",
     "text": [
      "                                           node_dict\n",
      "0                                           {687: 6}\n",
      "1  {1024: 1, 1089: 1, 1132: 1, 1100: 1, 1165: 1, ...\n",
      "2                                   {611: 4, 612: 2}\n",
      "3                         {1004: 2, 1005: 4, 967: 2}\n",
      "4  {897: 3, 900: 1, 903: 1, 905: 1, 906: 1, 962: ...\n",
      "   From    To  Count\n",
      "0     0  1760      3\n",
      "1     2  2692      6\n",
      "2     3  2719      2\n",
      "3     3  3118      2\n",
      "4     3  5211      2\n"
     ]
    }
   ],
   "source": [
    "nodes_df = pd.read_csv('nodes.csv', header=None, names=['node_dict'], index_col=0)\n",
    "edges_df = pd.read_csv('edges.csv')\n",
    "print(nodes_df.head())\n",
    "print(edges_df.head())"
   ]
  },
  {
   "cell_type": "code",
   "execution_count": 4,
   "metadata": {
    "scrolled": false
   },
   "outputs": [
    {
     "name": "stdout",
     "output_type": "stream",
     "text": [
      "[(0, {687: 6}), (1, {1024: 1, 1089: 1, 1132: 1, 1100: 1, 1165: 1, 1075: 1, 1109: 1, 1081: 1, 1114: 1}), (2, {611: 4, 612: 2}), (3, {1004: 2, 1005: 4, 967: 2}), (4, {897: 3, 900: 1, 903: 1, 905: 1, 906: 1, 962: 1, 910: 1, 920: 6, 792: 3, 794: 1, 795: 2, 925: 3, 802: 1, 931: 3, 805: 1, 806: 1, 807: 1, 938: 1, 939: 1, 940: 1, 941: 1, 942: 1, 945: 1, 946: 1, 947: 3, 948: 4, 990: 1, 953: 1, 826: 1, 955: 6, 956: 11, 960: 1, 833: 2, 961: 5, 966: 1, 840: 1, 973: 5, 974: 6, 975: 6, 850: 3, 855: 1, 856: 3, 996: 1, 991: 3, 862: 1, 863: 3, 864: 1, 868: 1, 869: 3, 998: 3, 872: 1, 935: 1, 876: 11, 877: 2, 878: 3, 879: 1, 882: 4, 884: 5, 886: 4, 890: 3})]\n",
      "[(0, 1760), (2, 2692), (3, 2719), (3, 3118), (3, 5211)]\n"
     ]
    }
   ],
   "source": [
    "nodes_list = [(index, ast.literal_eval(row.node_dict)) for index, row in nodes_df.iterrows()]\n",
    "edges_list = [(row.From, row.To) for index, row in edges_df.iterrows()]\n",
    "print(nodes_list[:5])\n",
    "print(edges_list[:5])"
   ]
  },
  {
   "cell_type": "code",
   "execution_count": 5,
   "metadata": {},
   "outputs": [
    {
     "name": "stdout",
     "output_type": "stream",
     "text": [
      "6600\n",
      "40777\n"
     ]
    }
   ],
   "source": [
    "# Creating graph with official data\n",
    "# Note: I get 50 897 directed edges (number in their paper), but 40777 undirected edges\n",
    "# since the following analysis uses undirected edges I go ahead with that\n",
    "G_mapped = nx.Graph()\n",
    "G_mapped.add_nodes_from(nodes_list)\n",
    "G_mapped.add_edges_from(edges_list)\n",
    "print(nx.number_of_nodes(G_mapped))\n",
    "print(nx.number_of_edges(G_mapped))"
   ]
  },
  {
   "cell_type": "markdown",
   "metadata": {},
   "source": [
    "# II. Implementing Algorithms from Paper"
   ]
  },
  {
   "cell_type": "markdown",
   "metadata": {},
   "source": [
    "Miz, Ricaud, Benzi, Vandergheynst (2019) treats the social network of people sending emails at Enron as a graph where the nodes represent email addresses (that sent more than 3 emails during the time in question) and edges exist between email addresses if an email was ever sent between the email addresses. \n",
    "\n",
    "This graph (which represents a social network) is then treated like a memory network. Specifically the network is a Hopfield memory network using the Hebbian learning rule. A Hopfield network stores memories (and can be recalled in using partial informatino). The Hebbian rule creates memories when nodes (neurons) fire together, in this case an abnormal level of emailing is what is registered as a neuron firing.\n",
    "\n",
    "Miz, Ricaud, Benzi, Vandergheynst (2019) go through 4 stages of when implementing the algorithm just described:\n",
    "\n",
    "1) They extract features by finding abnormal bursts of emails from one person. These basically correspond in future steps to a \"neuron firing\" within the memory field.\n",
    "\n",
    "2) They train Hopfield memory fields from those bursts using the Hebbian rule, which means connected people sending abnormally higher levels of emails together gets trained into the field as a \"memorable event\". A new Hopfield memory field is trained each month in this case, so they're attempting to learn new \"memories\" each month.\n",
    "\n",
    "3) They explore the Hopfield memory fields from certain months and look for the largest connected subgraph from that memory field and treat that as a \"memorable\" co-occurence of abnormally high email behavior\n",
    "\n",
    "4) They look at that subgraph of people and analyze their email volume to confirm that there is in fact an anomaly of emails during that time, this is compared to four events that happened in real life where higher email traffic would be expected"
   ]
  },
  {
   "cell_type": "markdown",
   "metadata": {},
   "source": [
    "## II.a. Extract features and filter nodes"
   ]
  },
  {
   "cell_type": "code",
   "execution_count": 6,
   "metadata": {},
   "outputs": [],
   "source": [
    "def gen_signal_array(G, t_min=0, t_max=1448):\n",
    "    nodes = G.nodes(data=True)\n",
    "    signal_array = np.zeros(shape=(len(nodes),t_max+1-t_min))\n",
    "    for t in range(t_min, t_max+1):\n",
    "        for node, data in nodes:\n",
    "            signal_array[node][t-t_min] = data.get(t,0)\n",
    "    return signal_array"
   ]
  },
  {
   "cell_type": "code",
   "execution_count": 7,
   "metadata": {},
   "outputs": [],
   "source": [
    "def gen_means_and_stds(signal_array):\n",
    "    means = np.apply_along_axis(np.mean, 0, signal_array)\n",
    "    stds = np.apply_along_axis(np.std, 0, signal_array)\n",
    "    return means, stds"
   ]
  },
  {
   "cell_type": "code",
   "execution_count": 814,
   "metadata": {},
   "outputs": [],
   "source": [
    "# Keep only nodes that have 2 or more bursts\n",
    "# Only keep activity that is anamolous (a burst)\n",
    "def filter_potential_anomalies(G, t_min, t_max, burst_threshold, min_bursts):\n",
    "    signal_array = gen_signal_array(G, t_min, t_max)\n",
    "    means, stds = gen_means_and_stds(signal_array)\n",
    "    nodes = G.nodes\n",
    "    nodes_to_keep = []\n",
    "    activity = {}\n",
    "    for node, node_dict in nodes.items():\n",
    "        bursts = 0\n",
    "        activity_to_keep = {}\n",
    "        #freq = 0\n",
    "        total = 0\n",
    "        for t in range(t_min, t_max+1):\n",
    "            if node_dict.get(t,0)>0:\n",
    "                total+=node_dict[t]\n",
    "                #freq+=1\n",
    "                #activity_to_keep[t] = node_dict[t]\n",
    "        for t in range(t_min, t_max+1):\n",
    "            if node_dict.get(t,0) > means[t-t_min] + stds[t-t_min]*burst_threshold:\n",
    "                bursts+=1\n",
    "                activity_to_keep[t] = node_dict[t]\n",
    "        if bursts >= min_bursts:\n",
    "            nodes_to_keep.append(node)\n",
    "            activity[node] = dict([(k, v/total) for k,v in activity_to_keep.items()])\n",
    "    #H=G.subgraph(nodes_to_keep)\n",
    "    H = nx.Graph()\n",
    "    H.add_nodes_from(G.subgraph(nodes_to_keep).nodes)\n",
    "    H.add_edges_from(G.subgraph(nodes_to_keep).edges)\n",
    "    nx.set_node_attributes(H, activity)\n",
    "    return H"
   ]
  },
  {
   "cell_type": "code",
   "execution_count": 891,
   "metadata": {},
   "outputs": [],
   "source": [
    "# December graph\n",
    "G_dec = filter_potential_anomalies(G_mapped, t_min=330, t_max=361, burst_threshold=3, min_bursts=2)"
   ]
  },
  {
   "cell_type": "code",
   "execution_count": 892,
   "metadata": {
    "scrolled": true
   },
   "outputs": [
    {
     "name": "stdout",
     "output_type": "stream",
     "text": [
      "73\n",
      "276\n"
     ]
    }
   ],
   "source": [
    "print(nx.number_of_nodes(G_dec))\n",
    "print(nx.number_of_edges(G_dec))"
   ]
  },
  {
   "cell_type": "code",
   "execution_count": 817,
   "metadata": {},
   "outputs": [],
   "source": [
    "# April graph\n",
    "G_apr = filter_potential_anomalies(G_mapped, t_min=818, t_max=848, burst_threshold=5, min_bursts=3)"
   ]
  },
  {
   "cell_type": "code",
   "execution_count": 818,
   "metadata": {
    "scrolled": false
   },
   "outputs": [
    {
     "name": "stdout",
     "output_type": "stream",
     "text": [
      "46\n",
      "213\n"
     ]
    }
   ],
   "source": [
    "print(nx.number_of_nodes(G_apr))\n",
    "print(nx.number_of_edges(G_apr))"
   ]
  },
  {
   "cell_type": "code",
   "execution_count": 819,
   "metadata": {},
   "outputs": [],
   "source": [
    "# May graph\n",
    "G_may = filter_potential_anomalies(G_mapped, t_min=848, t_max=886, burst_threshold=5, min_bursts=3)"
   ]
  },
  {
   "cell_type": "code",
   "execution_count": 820,
   "metadata": {
    "scrolled": false
   },
   "outputs": [
    {
     "name": "stdout",
     "output_type": "stream",
     "text": [
      "89\n",
      "557\n"
     ]
    }
   ],
   "source": [
    "print(nx.number_of_nodes(G_may))\n",
    "print(nx.number_of_edges(G_may))"
   ]
  },
  {
   "cell_type": "code",
   "execution_count": 938,
   "metadata": {},
   "outputs": [],
   "source": [
    "# August graph\n",
    "G_aug = filter_potential_anomalies(G_mapped, t_min=940, t_max=971, burst_threshold=6, min_bursts=3)"
   ]
  },
  {
   "cell_type": "code",
   "execution_count": 939,
   "metadata": {
    "scrolled": true
   },
   "outputs": [
    {
     "name": "stdout",
     "output_type": "stream",
     "text": [
      "55\n",
      "190\n"
     ]
    }
   ],
   "source": [
    "print(nx.number_of_nodes(G_aug))\n",
    "print(nx.number_of_edges(G_aug))"
   ]
  },
  {
   "cell_type": "code",
   "execution_count": 823,
   "metadata": {},
   "outputs": [
    {
     "data": {
      "text/plain": [
       "NodeDataView({5635: {945: 0.0625, 955: 0.0625, 959: 0.0625, 960: 0.19791666666666666, 962: 0.0625, 966: 0.09375, 967: 0.125, 970: 0.20833333333333334}, 4: {947: 0.07894736842105263, 948: 0.10526315789473684, 955: 0.15789473684210525, 956: 0.2894736842105263}, 1540: {940: 0.06976744186046512, 941: 0.05232558139534884, 945: 0.046511627906976744, 946: 0.040697674418604654, 947: 0.029069767441860465, 948: 0.040697674418604654, 949: 0.0872093023255814, 952: 0.05813953488372093, 953: 0.06395348837209303, 954: 0.040697674418604654, 955: 0.05813953488372093, 959: 0.12790697674418605, 960: 0.029069767441860465, 962: 0.0755813953488372, 963: 0.023255813953488372, 966: 0.023255813953488372, 967: 0.029069767441860465, 968: 0.03488372093023256, 969: 0.05813953488372093}, 3078: {946: 0.12727272727272726, 947: 0.03636363636363636, 949: 0.05454545454545454, 952: 0.16363636363636364, 954: 0.05454545454545454, 960: 0.16363636363636364, 963: 0.05454545454545454, 966: 0.07272727272727272}, 3848: {942: 0.13043478260869565, 947: 0.1956521739130435, 948: 0.13043478260869565, 952: 0.1956521739130435, 953: 0.15217391304347827, 969: 0.13043478260869565}, 4108: {962: 0.25, 963: 0.16666666666666666, 966: 0.16666666666666666, 967: 0.4166666666666667}, 3725: {941: 0.30434782608695654, 948: 0.17391304347826086, 955: 0.17391304347826086, 962: 0.17391304347826086, 969: 0.17391304347826086}, 4621: {940: 0.2777777777777778, 941: 0.3333333333333333, 947: 0.2222222222222222}, 1807: {943: 0.14285714285714285, 947: 0.42857142857142855, 950: 0.14285714285714285}, 1680: {940: 0.2857142857142857, 947: 0.14285714285714285, 955: 0.2857142857142857}, 6029: {940: 0.13333333333333333, 941: 0.06666666666666667, 945: 0.06666666666666667, 948: 0.06666666666666667, 949: 0.06666666666666667, 954: 0.06666666666666667, 955: 0.06666666666666667, 959: 0.06666666666666667, 968: 0.13333333333333333}, 2706: {947: 0.15, 948: 0.15, 953: 0.2}, 6422: {943: 0.06818181818181818, 945: 0.06818181818181818, 955: 0.09090909090909091, 957: 0.06818181818181818, 967: 0.13636363636363635, 968: 0.25}, 3608: {940: 0.125, 953: 0.28125, 954: 0.03125, 955: 0.1875, 962: 0.15625, 966: 0.041666666666666664, 970: 0.17708333333333334}, 1049: {940: 0.06140350877192982, 941: 0.043859649122807015, 945: 0.05263157894736842, 946: 0.06140350877192982, 947: 0.05263157894736842, 948: 0.08771929824561403, 952: 0.03508771929824561, 953: 0.07894736842105263, 955: 0.043859649122807015, 956: 0.043859649122807015, 957: 0.02631578947368421, 960: 0.043859649122807015, 962: 0.043859649122807015, 967: 0.11403508771929824, 969: 0.07894736842105263}, 3994: {940: 0.032679738562091505, 941: 0.05228758169934641, 945: 0.0392156862745098, 946: 0.026143790849673203, 947: 0.0392156862745098, 948: 0.0457516339869281, 949: 0.0392156862745098, 952: 0.0718954248366013, 953: 0.10457516339869281, 954: 0.0392156862745098, 955: 0.0392156862745098, 960: 0.0392156862745098, 962: 0.12418300653594772, 963: 0.05228758169934641, 966: 0.0457516339869281, 967: 0.06535947712418301, 969: 0.058823529411764705}, 4382: {946: 0.0547945205479452, 947: 0.0547945205479452, 948: 0.0821917808219178, 949: 0.1095890410958904, 952: 0.0547945205479452, 953: 0.0821917808219178, 960: 0.1232876712328767, 962: 0.0958904109589041, 963: 0.0410958904109589, 966: 0.0547945205479452, 969: 0.0547945205479452}, 2719: {946: 0.03571428571428571, 947: 0.02857142857142857, 949: 0.02142857142857143, 959: 0.02142857142857143, 966: 0.16428571428571428, 967: 0.29285714285714287, 968: 0.08571428571428572, 969: 0.14285714285714285, 970: 0.17857142857142858}, 2208: {940: 0.06818181818181818, 945: 0.03409090909090909, 946: 0.056818181818181816, 948: 0.10227272727272728, 949: 0.07954545454545454, 952: 0.07954545454545454, 953: 0.045454545454545456, 954: 0.045454545454545456, 959: 0.045454545454545456, 960: 0.045454545454545456, 966: 0.045454545454545456, 967: 0.06818181818181818, 968: 0.056818181818181816, 969: 0.056818181818181816}, 3107: {941: 0.07142857142857142, 945: 0.04285714285714286, 946: 0.11428571428571428, 947: 0.04285714285714286, 949: 0.1, 952: 0.08571428571428572, 953: 0.15714285714285714, 954: 0.07142857142857142, 960: 0.08571428571428572}, 4131: {943: 0.10526315789473684, 947: 0.10526315789473684, 949: 0.15789473684210525, 969: 0.2631578947368421}, 4515: {942: 0.05454545454545454, 945: 0.1, 946: 0.1, 947: 0.05454545454545454, 948: 0.1, 949: 0.05454545454545454, 952: 0.07272727272727272, 953: 0.09090909090909091, 955: 0.045454545454545456, 959: 0.05454545454545454, 962: 0.03636363636363636, 966: 0.03636363636363636, 969: 0.03636363636363636}, 4390: {948: 0.18181818181818182, 949: 0.18181818181818182, 956: 0.18181818181818182, 963: 0.18181818181818182}, 6179: {941: 0.11428571428571428, 945: 0.2571428571428571, 946: 0.17142857142857143, 948: 0.17142857142857143}, 552: {948: 0.2857142857142857, 950: 0.21428571428571427, 951: 0.21428571428571427}, 3496: {940: 0.03636363636363636, 941: 0.05454545454545454, 942: 0.16363636363636364, 945: 0.02727272727272727, 946: 0.031818181818181815, 948: 0.09545454545454546, 949: 0.04090909090909091, 952: 0.03636363636363636, 953: 0.05454545454545454, 954: 0.022727272727272728, 955: 0.031818181818181815, 959: 0.022727272727272728, 960: 0.01818181818181818, 962: 0.01818181818181818, 963: 0.02727272727272727, 964: 0.09545454545454546, 966: 0.01818181818181818, 967: 0.03636363636363636, 968: 0.10454545454545454, 969: 0.045454545454545456}, 1834: {946: 0.15, 947: 0.15, 963: 0.15, 969: 0.25}, 171: {940: 0.08823529411764706, 947: 0.08823529411764706, 948: 0.17647058823529413, 949: 0.17647058823529413, 967: 0.17647058823529413, 971: 0.08823529411764706}, 3372: {942: 0.13333333333333333, 947: 0.13333333333333333, 953: 0.13333333333333333, 960: 0.13333333333333333, 966: 0.13333333333333333, 967: 0.13333333333333333}, 5800: {941: 0.07142857142857142, 947: 0.07142857142857142, 948: 0.125, 955: 0.05357142857142857, 957: 0.017857142857142856, 963: 0.07142857142857142, 967: 0.25}, 1588: {952: 0.05555555555555555, 953: 0.1111111111111111, 955: 0.125, 967: 0.08333333333333333, 968: 0.16666666666666666, 969: 0.06944444444444445, 970: 0.1111111111111111}, 1847: {941: 0.05084745762711865, 945: 0.22033898305084745, 946: 0.13559322033898305, 952: 0.1016949152542373, 955: 0.06779661016949153, 959: 0.05084745762711865, 960: 0.0847457627118644}, 2231: {949: 0.20689655172413793, 953: 0.41379310344827586, 966: 0.10344827586206896}, 3896: {940: 0.03896103896103896, 941: 0.05194805194805195, 942: 0.07792207792207792, 945: 0.08441558441558442, 959: 0.07792207792207792, 960: 0.16883116883116883, 961: 0.07792207792207792, 962: 0.05194805194805195, 963: 0.11038961038961038, 966: 0.11688311688311688, 969: 0.03896103896103896, 970: 0.07792207792207792}, 2618: {947: 0.15789473684210525, 954: 0.15789473684210525, 955: 0.15789473684210525, 956: 0.21052631578947367, 959: 0.15789473684210525}, 3003: {940: 0.05172413793103448, 945: 0.08620689655172414, 947: 0.034482758620689655, 949: 0.08620689655172414, 953: 0.06896551724137931, 959: 0.1724137931034483, 960: 0.15517241379310345, 963: 0.08620689655172414}, 5048: {955: 0.125, 958: 0.16666666666666666, 962: 0.16666666666666666, 970: 0.16666666666666666}, 2365: {942: 0.25, 946: 0.14285714285714285, 960: 0.14285714285714285}, 319: {940: 0.4, 946: 0.2, 954: 0.3333333333333333}, 6591: {940: 0.3, 947: 0.3, 954: 0.3}, 2241: {941: 0.04918032786885246, 946: 0.09836065573770492, 948: 0.14754098360655737, 949: 0.04918032786885246, 953: 0.09836065573770492, 954: 0.14754098360655737, 959: 0.04918032786885246, 967: 0.08196721311475409}, 3529: {940: 0.14285714285714285, 953: 0.42857142857142855, 954: 0.14285714285714285, 955: 0.2857142857142857}, 972: {940: 0.15, 941: 0.3, 946: 0.2, 950: 0.15}, 3404: {945: 0.1111111111111111, 946: 0.1111111111111111, 949: 0.1111111111111111, 959: 0.1111111111111111, 966: 0.2222222222222222}, 1742: {940: 0.08333333333333333, 942: 0.09523809523809523, 945: 0.07142857142857142, 946: 0.08333333333333333, 948: 0.03571428571428571, 949: 0.08333333333333333, 952: 0.19047619047619047, 954: 0.03571428571428571, 955: 0.03571428571428571, 956: 0.08333333333333333}, 3791: {941: 0.13043478260869565, 945: 0.10869565217391304, 947: 0.06521739130434782, 954: 0.06521739130434782, 956: 0.08695652173913043, 959: 0.06521739130434782, 963: 0.06521739130434782, 967: 0.17391304347826086}, 2512: {940: 0.04152249134948097, 941: 0.03460207612456748, 942: 0.03806228373702422, 945: 0.04152249134948097, 946: 0.03806228373702422, 947: 0.010380622837370242, 948: 0.03460207612456748, 949: 0.02768166089965398, 952: 0.04152249134948097, 953: 0.058823529411764705, 954: 0.02768166089965398, 955: 0.02768166089965398, 956: 0.0726643598615917, 959: 0.06920415224913495, 960: 0.06228373702422145, 961: 0.0657439446366782, 962: 0.03806228373702422, 963: 0.058823529411764705, 966: 0.04498269896193772, 967: 0.04498269896193772, 968: 0.02422145328719723, 969: 0.04498269896193772, 970: 0.05190311418685121}, 5836: {940: 0.14814814814814814, 953: 0.14814814814814814, 954: 0.2222222222222222}, 1237: {940: 0.14, 941: 0.08, 946: 0.08, 947: 0.12, 949: 0.14, 954: 0.06}, 2262: {940: 0.15, 941: 0.3, 945: 0.2, 948: 0.2}, 855: {940: 0.5, 941: 0.25, 949: 0.25}, 3421: {952: 0.06666666666666667, 953: 0.13333333333333333, 955: 0.13333333333333333, 956: 0.06666666666666667, 959: 0.06666666666666667, 960: 0.06666666666666667, 967: 0.13333333333333333, 968: 0.1, 969: 0.13333333333333333}, 3550: {949: 0.3333333333333333, 954: 0.16666666666666666, 959: 0.5}, 5214: {940: 0.41025641025641024, 962: 0.2564102564102564, 963: 0.1794871794871795}, 3296: {940: 0.06521739130434782, 945: 0.13043478260869565, 947: 0.08695652173913043, 949: 0.06521739130434782, 955: 0.10869565217391304, 966: 0.10869565217391304}, 609: {940: 0.06622516556291391, 941: 0.046357615894039736, 942: 0.10596026490066225, 943: 0.019867549668874173, 945: 0.026490066225165563, 946: 0.09933774834437085, 947: 0.052980132450331126, 952: 0.039735099337748346, 953: 0.059602649006622516, 954: 0.033112582781456956, 955: 0.052980132450331126, 956: 0.033112582781456956, 963: 0.09933774834437085, 966: 0.052980132450331126, 968: 0.07947019867549669, 969: 0.06622516556291391}, 5982: {953: 0.10752688172043011, 955: 0.25806451612903225, 956: 0.13978494623655913, 957: 0.053763440860215055, 967: 0.12903225806451613, 968: 0.11827956989247312}, 998: {940: 0.14285714285714285, 945: 0.2857142857142857, 946: 0.19047619047619047, 947: 0.09523809523809523}, 5222: {941: 0.18181818181818182, 949: 0.22727272727272727, 952: 0.4090909090909091}, 1384: {945: 0.12, 948: 0.1, 962: 0.08, 966: 0.08, 967: 0.14, 968: 0.14, 969: 0.14}, 4840: {940: 0.16129032258064516, 957: 0.06451612903225806, 969: 0.22580645161290322, 971: 0.06451612903225806}, 5742: {949: 0.07692307692307693, 952: 0.23076923076923078, 959: 0.07692307692307693, 963: 0.15384615384615385, 966: 0.15384615384615385, 967: 0.15384615384615385, 968: 0.15384615384615385}, 4591: {954: 0.14285714285714285, 955: 0.14285714285714285, 966: 0.14285714285714285}, 753: {946: 0.2727272727272727, 948: 0.2727272727272727, 949: 0.2727272727272727}, 1010: {940: 0.14285714285714285, 945: 0.19047619047619047, 953: 0.19047619047619047, 955: 0.14285714285714285, 966: 0.14285714285714285}, 1905: {941: 0.1875, 955: 0.1875, 957: 0.0625}, 2291: {946: 0.18181818181818182, 962: 0.18181818181818182, 968: 0.22727272727272727}, 3059: {950: 0.037037037037037035, 969: 0.3333333333333333, 970: 0.14814814814814814}, 1910: {968: 0.3333333333333333, 969: 0.3333333333333333, 970: 0.3333333333333333}, 3444: {942: 0.2692307692307692, 949: 0.23076923076923078, 968: 0.23076923076923078}, 3830: {940: 0.39285714285714285, 941: 0.10714285714285714, 946: 0.21428571428571427}, 5370: {960: 0.5294117647058824, 963: 0.17647058823529413, 966: 0.17647058823529413}, 5243: {947: 0.22727272727272727, 959: 0.4090909090909091, 960: 0.18181818181818182}, 1021: {940: 0.0380952380952381, 946: 0.0380952380952381, 948: 0.02857142857142857, 952: 0.047619047619047616, 953: 0.09523809523809523, 954: 0.13333333333333333, 962: 0.0380952380952381, 963: 0.0380952380952381, 965: 0.047619047619047616, 966: 0.09523809523809523, 967: 0.1619047619047619, 968: 0.05714285714285714, 969: 0.05714285714285714}, 895: {940: 0.15625, 941: 0.375, 963: 0.375}})"
      ]
     },
     "execution_count": 823,
     "metadata": {},
     "output_type": "execute_result"
    }
   ],
   "source": [
    "G_aug.nodes(data=True)"
   ]
  },
  {
   "cell_type": "markdown",
   "metadata": {},
   "source": [
    "## II.b and c. Train Hopfield Network and extracting Largest Connected Component Subgraph"
   ]
  },
  {
   "cell_type": "code",
   "execution_count": 788,
   "metadata": {},
   "outputs": [],
   "source": [
    "def train_hopfield(G, min_time, max_time, sparsity_parameter=0.5, forgetting_parameter=0):\n",
    "    H = G.copy()\n",
    "    edges = H.edges\n",
    "    edge_weights = {}\n",
    "    sim = {}\n",
    "    for i, j in edges:\n",
    "        node_dict_i = G.nodes(data=True)[i]\n",
    "        node_dict_j = G.nodes(data=True)[j]\n",
    "        edge_weights[(i,j)] = 0\n",
    "        # Train by stepping through time and use Hebbian learning rule (using the similarity function defined)\n",
    "        for t in range(min_time, max_time+1):\n",
    "            activities = (node_dict_i.get(t,0), node_dict_j.get(t,0))\n",
    "            if activities == (0,0):\n",
    "                sim[(i,j,t)] = 0\n",
    "            else:\n",
    "                sim[(i,j,t)] = min(activities)/max(activities)\n",
    "            if sim[(i,j,t)] > sparsity_parameter:\n",
    "                edge_weights[(i,j)] += sim[(i,j,t)]\n",
    "            else:\n",
    "                edge_weights[(i,j)] -forgetting_parameter*sim[(i,j,t)]\n",
    "    nx.set_edge_attributes(H, name='weight', values=edge_weights)\n",
    "    return H"
   ]
  },
  {
   "cell_type": "code",
   "execution_count": 875,
   "metadata": {},
   "outputs": [],
   "source": [
    "# Filter out edges with low weight\n",
    "def filter_edges_by_weight(G, weight_limit=0):\n",
    "    H = G.copy()\n",
    "    to_remove = []\n",
    "    edges = H.edges(data=True)\n",
    "    for i, j, data in edges:\n",
    "        if data['weight'] <= weight_limit:\n",
    "            to_remove.append((i,j))\n",
    "    H.remove_edges_from(to_remove)\n",
    "    return H"
   ]
  },
  {
   "cell_type": "code",
   "execution_count": 893,
   "metadata": {},
   "outputs": [],
   "source": [
    "# Training the Hopfield network for December 1999 (first anomaly)\n",
    "G_trained_dec = train_hopfield(G_dec, min_time=330, max_time=361)"
   ]
  },
  {
   "cell_type": "code",
   "execution_count": 894,
   "metadata": {},
   "outputs": [
    {
     "name": "stdout",
     "output_type": "stream",
     "text": [
      "45\n"
     ]
    }
   ],
   "source": [
    "# Finding the largest connected component subgraph of the trained Graph for December\n",
    "G_trained_dec_filtered = filter_edges_by_weight(G_trained_dec)\n",
    "Gc_dec = max(nx.connected_component_subgraphs(G_trained_dec_filtered), key=len)\n",
    "print(nx.number_of_nodes(Gc_dec))"
   ]
  },
  {
   "cell_type": "code",
   "execution_count": 878,
   "metadata": {},
   "outputs": [],
   "source": [
    "# Training the Hopfield network for April 2001 (second anomaly)\n",
    "G_trained_apr = train_hopfield(G_apr, min_time=818, max_time=848)"
   ]
  },
  {
   "cell_type": "code",
   "execution_count": 879,
   "metadata": {
    "scrolled": true
   },
   "outputs": [
    {
     "name": "stdout",
     "output_type": "stream",
     "text": [
      "38\n"
     ]
    }
   ],
   "source": [
    "# Finding the largest connected component subgraph of the trained Graph for December\n",
    "G_trained_apr_filtered = filter_edges_by_weight(G_trained_apr, weight_limit=1)\n",
    "Gc_apr = max(nx.connected_component_subgraphs(G_trained_apr_filtered), key=len)\n",
    "print(nx.number_of_nodes(Gc_apr))"
   ]
  },
  {
   "cell_type": "code",
   "execution_count": 880,
   "metadata": {},
   "outputs": [],
   "source": [
    "# Training the Hopfield network for May 2001 (third and biggest anomaly)\n",
    "G_trained_may = train_hopfield(G_may, min_time=848, max_time=886)"
   ]
  },
  {
   "cell_type": "code",
   "execution_count": 881,
   "metadata": {},
   "outputs": [
    {
     "name": "stdout",
     "output_type": "stream",
     "text": [
      "54\n"
     ]
    }
   ],
   "source": [
    "# Finding the largest connected component subgraph of the trained Graph for May 2001\n",
    "G_trained_may_filtered = filter_edges_by_weight(G_trained_may, weight_limit=1)\n",
    "Gc_may = max(nx.connected_component_subgraphs(G_trained_may_filtered), key=len)\n",
    "print(nx.number_of_nodes(Gc_may))"
   ]
  },
  {
   "cell_type": "code",
   "execution_count": 940,
   "metadata": {},
   "outputs": [],
   "source": [
    "# Training the Hopfield network for Aug 2001 (fourth anomaly)\n",
    "G_trained_aug = train_hopfield(G_aug, min_time=940, max_time=971)"
   ]
  },
  {
   "cell_type": "code",
   "execution_count": 941,
   "metadata": {},
   "outputs": [
    {
     "name": "stdout",
     "output_type": "stream",
     "text": [
      "41\n"
     ]
    }
   ],
   "source": [
    "# Finding the largest connected component subgraph of the trained Graph for May 2001\n",
    "G_trained_aug_filtered = filter_edges_by_weight(G_trained_aug)\n",
    "Gc_aug = max(nx.connected_component_subgraphs(G_trained_aug_filtered), key=len)\n",
    "print(nx.number_of_nodes(Gc_aug))"
   ]
  },
  {
   "cell_type": "markdown",
   "metadata": {},
   "source": [
    "## III. Analysis of Anomalous Clusters"
   ]
  },
  {
   "cell_type": "code",
   "execution_count": 905,
   "metadata": {},
   "outputs": [],
   "source": [
    "def gen_activity_graph(G_original, cluster, t_min=0, t_max=1448):\n",
    "    original_times = []\n",
    "    for node, node_dict in cluster.nodes(data=True):\n",
    "        for t,v in node_dict.items():\n",
    "            original_times.append(t)\n",
    "    cluster = G_original.subgraph(cluster)\n",
    "    time = range(t_min, t_max+1)\n",
    "    array = np.zeros(shape=(len(time)))\n",
    "    for t in time:\n",
    "        for _, node_dict in cluster.nodes(data=True):\n",
    "            array[t-t_min]+=node_dict.get(t,0)\n",
    "    plt.plot(array)\n",
    "    plt.axvspan(min(original_times),max(original_times),color='red', alpha=0.3)\n",
    "    return array"
   ]
  },
  {
   "cell_type": "code",
   "execution_count": 906,
   "metadata": {
    "scrolled": true
   },
   "outputs": [
    {
     "data": {
      "image/png": "[encoded data removed]",
      "text/plain": [
       "<Figure size 432x288 with 1 Axes>"
      ]
     },
     "metadata": {
      "needs_background": "light"
     },
     "output_type": "display_data"
    }
   ],
   "source": [
    "dec_array = gen_activity_graph(G_mapped, Gc_dec)"
   ]
  },
  {
   "cell_type": "code",
   "execution_count": 907,
   "metadata": {
    "scrolled": true
   },
   "outputs": [
    {
     "data": {
      "image/png": "[encoded data removed]",
      "text/plain": [
       "<Figure size 432x288 with 1 Axes>"
      ]
     },
     "metadata": {
      "needs_background": "light"
     },
     "output_type": "display_data"
    }
   ],
   "source": [
    "apr_array = gen_activity_graph(G_mapped, Gc_apr)"
   ]
  },
  {
   "cell_type": "code",
   "execution_count": 908,
   "metadata": {
    "scrolled": true
   },
   "outputs": [
    {
     "data": {
      "image/png": "[encoded data removed]",
      "text/plain": [
       "<Figure size 432x288 with 1 Axes>"
      ]
     },
     "metadata": {
      "needs_background": "light"
     },
     "output_type": "display_data"
    }
   ],
   "source": [
    "may_array = gen_activity_graph(G_mapped, Gc_may)"
   ]
  },
  {
   "cell_type": "code",
   "execution_count": 942,
   "metadata": {
    "scrolled": true
   },
   "outputs": [
    {
     "data": {
      "image/png": "[encoded data removed]",
      "text/plain": [
       "<Figure size 432x288 with 1 Axes>"
      ]
     },
     "metadata": {
      "needs_background": "light"
     },
     "output_type": "display_data"
    }
   ],
   "source": [
    "aug_array = gen_activity_graph(G_mapped, Gc_aug)"
   ]
  },
  {
   "cell_type": "code",
   "execution_count": 190,
   "metadata": {
    "scrolled": true
   },
   "outputs": [
    {
     "data": {
      "text/html": [
       "<div>\n",
       "<style scoped>\n",
       "    .dataframe tbody tr th:only-of-type {\n",
       "        vertical-align: middle;\n",
       "    }\n",
       "\n",
       "    .dataframe tbody tr th {\n",
       "        vertical-align: top;\n",
       "    }\n",
       "\n",
       "    .dataframe thead th {\n",
       "        text-align: right;\n",
       "    }\n",
       "</style>\n",
       "<table border=\"1\" class=\"dataframe\">\n",
       "  <thead>\n",
       "    <tr style=\"text-align: right;\">\n",
       "      <th></th>\n",
       "      <th>email</th>\n",
       "    </tr>\n",
       "    <tr>\n",
       "      <th>id</th>\n",
       "      <th></th>\n",
       "    </tr>\n",
       "  </thead>\n",
       "  <tbody>\n",
       "    <tr>\n",
       "      <th>0</th>\n",
       "      <td>1800flowers@shop2u.com</td>\n",
       "    </tr>\n",
       "    <tr>\n",
       "      <th>1</th>\n",
       "      <td>2000greetings@postalmanager.com</td>\n",
       "    </tr>\n",
       "    <tr>\n",
       "      <th>2</th>\n",
       "      <td>2740741@skytel.com</td>\n",
       "    </tr>\n",
       "    <tr>\n",
       "      <th>3</th>\n",
       "      <td>40ees@enron.com</td>\n",
       "    </tr>\n",
       "    <tr>\n",
       "      <th>4</th>\n",
       "      <td>40enron@enron.com</td>\n",
       "    </tr>\n",
       "  </tbody>\n",
       "</table>\n",
       "</div>"
      ],
      "text/plain": [
       "                              email\n",
       "id                                 \n",
       "0            1800flowers@shop2u.com\n",
       "1   2000greetings@postalmanager.com\n",
       "2                2740741@skytel.com\n",
       "3                   40ees@enron.com\n",
       "4                 40enron@enron.com"
      ]
     },
     "execution_count": 190,
     "metadata": {},
     "output_type": "execute_result"
    }
   ],
   "source": [
    "id_email = pd.read_csv('id-email.csv', header=None, names=['id','email'], index_col='id')\n",
    "id_email.head()"
   ]
  },
  {
   "cell_type": "code",
   "execution_count": 553,
   "metadata": {
    "scrolled": true
   },
   "outputs": [
    {
     "name": "stdout",
     "output_type": "stream",
     "text": [
      "April emails: ['chris.germany@enron.com', 'sgovenar@govadv.com', 'debra.perlingiere@enron.com', 'becky.spencer@enron.com', 'mary.cook@enron.com', 'janel.guerrero@enron.com', 'rhonda.denton@enron.com', 'bill.iii@enron.com', 'matthew.lenhart@enron.com', 'richard.sanders@enron.com', 'richard.shapiro@enron.com', 'tori.kuykendall@enron.com', 'outlook.team@enron.com', 'jeff.dasovich@enron.com', 'alan.comnes@enron.com', 'drew.fossum@enron.com', 'patrice.mims@enron.com', 'karen.denne@enron.com', 'stanley.horton@enron.com', 'kate.symes@enron.com', 'veronica.espinoza@enron.com', 'michael.tribolet@enron.com', 'vince.kaminski@enron.com', 'kay.mann@enron.com', 'steven.kean@enron.com', 'pete.davis@enron.com', 'dan.hyvl@enron.com', 'elizabeth.sager@enron.com', 'cara.semperger@enron.com', 'phillip.allen@enron.com', 'phillip.love@enron.com', 'mike.mcconnell@enron.com', 'sally.beck@enron.com', 'carol.clair@enron.com', 'susan.mara@enron.com', 'susan.scott@enron.com', 'enron.announcements@enron.com', 'darron.giron@enron.com', 'sara.shackleton@enron.com', 'kim.ward@enron.com', 'ccampbell@kslaw.com', 'tana.jones@enron.com', 'john.arnold@enron.com', 'evelyn.metoyer@enron.com', 'ray.alvarez@enron.com']\n"
     ]
    }
   ],
   "source": [
    "apr_emails = [email for email in map(lambda x: id_email.loc[x]['email'], Gc_apr.nodes)]\n",
    "print(f'April emails: {apr_emails}')"
   ]
  },
  {
   "cell_type": "code",
   "execution_count": 554,
   "metadata": {},
   "outputs": [
    {
     "data": {
      "text/plain": [
       "{'amy.fitzpatrick@enron.com',\n",
       " 'brian.redmond@enron.com',\n",
       " 'crystal.hyde@enron.com',\n",
       " 'david.fairley@enron.com',\n",
       " 'david.porter@enron.com',\n",
       " 'donna.johnson@enron.com',\n",
       " 'eric.linder@enron.com',\n",
       " 'geir.solberg@enron.com',\n",
       " 'grace.rodriguez@enron.com',\n",
       " 'greg.wolfe@enron.com',\n",
       " 'jbennett@gmssr.com',\n",
       " 'jennifer.rudolph@enron.com',\n",
       " 'mark.confer@enron.com',\n",
       " 'mark.palmer@enron.com',\n",
       " 'reagan.rorschach@enron.com',\n",
       " 'richard.lydecker@enron.com',\n",
       " 'robert.neustaedter@enron.com',\n",
       " 'scott.stoness@enron.com',\n",
       " 'sean.crandall@enron.com',\n",
       " 'steve.hall@enron.com',\n",
       " 'virginia.thompson@enron.com'}"
      ]
     },
     "execution_count": 554,
     "metadata": {},
     "output_type": "execute_result"
    }
   ],
   "source": [
    "# Set of April emails for official data subtracting the set I got for April\n",
    "set(['virginia.thompson@enron.com', 'bill.iii@enron.com', 'geir.solberg@enron.com', 'eric.linder@enron.com', 'grace.rodriguez@enron.com', 'mark.palmer@enron.com', 'amy.fitzpatrick@enron.com', 'reagan.rorschach@enron.com', 'jennifer.rudolph@enron.com', 'mark.confer@enron.com', 'pete.davis@enron.com', 'david.fairley@enron.com', 'crystal.hyde@enron.com', 'steve.hall@enron.com', 'donna.johnson@enron.com', 'sean.crandall@enron.com', 'brian.redmond@enron.com', 'david.porter@enron.com', 'cara.semperger@enron.com', 'richard.lydecker@enron.com', 'greg.wolfe@enron.com', 'robert.neustaedter@enron.com', 'scott.stoness@enron.com', 'janel.guerrero@enron.com', 'jbennett@gmssr.com']) - set(apr_emails)"
   ]
  },
  {
   "cell_type": "code",
   "execution_count": 555,
   "metadata": {},
   "outputs": [
    {
     "name": "stdout",
     "output_type": "stream",
     "text": [
      "December emails: ['leslie.hansen@enron.com', 'sara.shackleton@enron.com', 'david.dupre@enron.com', 'vince.kaminski@enron.com', 'david.forster@enron.com', 'molly.harris@enron.com', 'steven.kean@enron.com', 'larry.hunter@enron.com', 'dale.neuner@enron.com', 'gerald.nemec@enron.com', 'tana.jones@enron.com', 'christi.nicolay@enron.com', 'elizabeth.sager@enron.com', 'ginger.dernehl@enron.com', 'twanda.sweet@enron.com', 'mark.haedicke@enron.com', 'sally.beck@enron.com', 'richard.sanders@enron.com', 'susan.scott@enron.com', 'mark.taylor@enron.com', 'lora.sullivan@enron.com', 'eric.bass@enron.com']\n"
     ]
    }
   ],
   "source": [
    "dec_emails = [email for email in map(lambda x: id_email.loc[x]['email'], Gc_dec.nodes)]\n",
    "print(f'December emails: {dec_emails}')"
   ]
  },
  {
   "cell_type": "code",
   "execution_count": 556,
   "metadata": {},
   "outputs": [
    {
     "data": {
      "text/plain": [
       "{'ami.chokshi@enron.com',\n",
       " 'brenda.herod@enron.com',\n",
       " 'carrie.hollomon@enron.com',\n",
       " 'charlotte.hawkins@enron.com',\n",
       " 'chris.germany@enron.com',\n",
       " 'clayton.vernon@enron.com',\n",
       " 'daren.farmer@enron.com',\n",
       " 'drew.fossum@enron.com',\n",
       " 'gary.hanks@enron.com',\n",
       " 'howard.camp@enron.com',\n",
       " 'john.lavorato@enron.com',\n",
       " 'julie.meyers@enron.com',\n",
       " 'kevin.moore@enron.com',\n",
       " 'kimberly.vaughn@enron.com',\n",
       " 'lauri.allen@enron.com',\n",
       " 'mandy.mackinnon@enron.com',\n",
       " 'pdrexel@columbiaenergygroup.com',\n",
       " 'peter.keavey@enron.com',\n",
       " 'randall.gay@enron.com',\n",
       " 'sgilles@columbiaenergygroup.com',\n",
       " 'stella.morris@enron.com'}"
      ]
     },
     "execution_count": 556,
     "metadata": {},
     "output_type": "execute_result"
    }
   ],
   "source": [
    "# Set of December emails for official data subtracting the set I got for December\n",
    "set(['vince.kaminski@enron.com', 'sgilles@columbiaenergygroup.com', 'chris.germany@enron.com', 'lauri.allen@enron.com', 'kevin.moore@enron.com', 'mandy.mackinnon@enron.com', 'clayton.vernon@enron.com', 'drew.fossum@enron.com', 'david.dupre@enron.com', 'daren.farmer@enron.com', 'stella.morris@enron.com', 'charlotte.hawkins@enron.com', 'brenda.herod@enron.com', 'howard.camp@enron.com', 'dale.neuner@enron.com', 'eric.bass@enron.com', 'julie.meyers@enron.com', 'kimberly.vaughn@enron.com', 'peter.keavey@enron.com', 'john.lavorato@enron.com', 'ami.chokshi@enron.com', 'christi.nicolay@enron.com', 'sally.beck@enron.com', 'gary.hanks@enron.com', 'randall.gay@enron.com', 'pdrexel@columbiaenergygroup.com', 'twanda.sweet@enron.com', 'mark.haedicke@enron.com', 'carrie.hollomon@enron.com']) - set(dec_emails)"
   ]
  },
  {
   "cell_type": "code",
   "execution_count": 804,
   "metadata": {},
   "outputs": [
    {
     "name": "stdout",
     "output_type": "stream",
     "text": [
      "August emails: ['sgovenar@govadv.com', '40enron@enron.com', 'debra.perlingiere@enron.com', 'john.zufferli@enron.com', 'lorna.brennan@enron.com', 'sylvia.hu@enron.com', 'virginia.thompson@enron.com', 'chris.stokley@enron.com', 'marie.heard@enron.com', 'michelle.cash@enron.com', 'jeff.dasovich@enron.com', 'gerald.nemec@enron.com', 'jonathan.mckay@enron.com', 'monika.causholli@enron.com', 'michelle.lokay@enron.com', 'tim.belden@enron.com', 'kimberly.watson@enron.com', 'stacey.bolton@enron.com', 'alan.comnes@enron.com', 'diana.scholtes@enron.com', 'elizabeth.sager@enron.com', 'lynn.blair@enron.com', 'john.arnold@enron.com', 'glen.hass@enron.com', 'ken.powers@enron.com', 'dutch.quigley@enron.com', 'lisa.jacobson@enron.com', 'j.kaminski@enron.com', 'grace.rodriguez@enron.com', 'susan.mara@enron.com', 'kate.symes@enron.com', 'bill.williams@enron.com', 'darrell.schoolcraft@enron.com', 'paul.kaufman@enron.com', 'chris.dorland@enron.com']\n"
     ]
    }
   ],
   "source": [
    "aug_emails = [email for email in map(lambda x: id_email.loc[x]['email'], Gc_aug.nodes)]\n",
    "print(f'August emails: {aug_emails}')"
   ]
  },
  {
   "cell_type": "code",
   "execution_count": 806,
   "metadata": {},
   "outputs": [
    {
     "data": {
      "text/plain": [
       "{'dave.perrino@enron.com',\n",
       " 'dee.espinoza@travelpark.com',\n",
       " 'eric.faucheaux@enron.com',\n",
       " 'greg.frers@enron.com',\n",
       " 'greg.mann@enron.com',\n",
       " 'gretchen.hardeway@enron.com',\n",
       " 'holden.salisbury@enron.com',\n",
       " 'jean.mrha@enron.com',\n",
       " 'jeanie.slone@enron.com',\n",
       " 'john.sturn@enron.com',\n",
       " 'ketchekl@bp.com',\n",
       " 'larry.pavlou@enron.com',\n",
       " 'magdelena.cruz@enron.com',\n",
       " 'margaret.daffin@enron.com',\n",
       " 'paul.donnelly@bakeratlas.com',\n",
       " 'payables.ibuyit@enron.com',\n",
       " 'ron.matthews@enron.com',\n",
       " 'tuckiejeff@hotmail.com'}"
      ]
     },
     "execution_count": 806,
     "metadata": {},
     "output_type": "execute_result"
    }
   ],
   "source": [
    "# Set of August emails for official data subtracting the set I got for August\n",
    "set(['40enron@enron.com', 'john.sturn@enron.com', 'gretchen.hardeway@enron.com', 'greg.mann@enron.com', 'j.kaminski@enron.com', 'dave.perrino@enron.com', 'kimberly.watson@enron.com', 'larry.pavlou@enron.com', 'ron.matthews@enron.com', 'greg.frers@enron.com', 'ken.powers@enron.com', 'magdelena.cruz@enron.com', 'john.zufferli@enron.com', 'paul.donnelly@bakeratlas.com', 'ketchekl@bp.com', 'diana.scholtes@enron.com', 'jean.mrha@enron.com', 'eric.faucheaux@enron.com', 'bill.williams@enron.com', 'payables.ibuyit@enron.com', 'jeanie.slone@enron.com', 'monika.causholli@enron.com', 'tuckiejeff@hotmail.com', 'chris.stokley@enron.com', 'holden.salisbury@enron.com', 'jonathan.mckay@enron.com', 'dee.espinoza@travelpark.com', 'margaret.daffin@enron.com']) - set(aug_emails)"
   ]
  },
  {
   "cell_type": "code",
   "execution_count": 943,
   "metadata": {
    "scrolled": false
   },
   "outputs": [
    {
     "data": {
      "text/plain": [
       "{'alan.comnes@enron.com',\n",
       " 'debra.perlingiere@enron.com',\n",
       " 'elizabeth.sager@enron.com',\n",
       " 'jeff.dasovich@enron.com',\n",
       " 'john.arnold@enron.com',\n",
       " 'kate.symes@enron.com',\n",
       " 'sgovenar@govadv.com',\n",
       " 'susan.mara@enron.com'}"
      ]
     },
     "execution_count": 943,
     "metadata": {},
     "output_type": "execute_result"
    }
   ],
   "source": [
    "set(apr_emails)&set(aug_emails)#&set(['40enron@enron.com', 'john.sturn@enron.com', 'gretchen.hardeway@enron.com', 'greg.mann@enron.com', 'j.kaminski@enron.com', 'dave.perrino@enron.com', 'kimberly.watson@enron.com', 'larry.pavlou@enron.com', 'ron.matthews@enron.com', 'greg.frers@enron.com', 'ken.powers@enron.com', 'magdelena.cruz@enron.com', 'john.zufferli@enron.com', 'paul.donnelly@bakeratlas.com', 'ketchekl@bp.com', 'diana.scholtes@enron.com', 'jean.mrha@enron.com', 'eric.faucheaux@enron.com', 'bill.williams@enron.com', 'payables.ibuyit@enron.com', 'jeanie.slone@enron.com', 'monika.causholli@enron.com', 'tuckiejeff@hotmail.com', 'chris.stokley@enron.com', 'holden.salisbury@enron.com', 'jonathan.mckay@enron.com', 'dee.espinoza@travelpark.com', 'margaret.daffin@enron.com'])"
   ]
  },
  {
   "cell_type": "code",
   "execution_count": 750,
   "metadata": {},
   "outputs": [
    {
     "data": {
      "text/plain": [
       "{'elizabeth.sager@enron.com',\n",
       " 'richard.sanders@enron.com',\n",
       " 'sally.beck@enron.com',\n",
       " 'sara.shackleton@enron.com',\n",
       " 'steven.kean@enron.com',\n",
       " 'susan.scott@enron.com',\n",
       " 'tana.jones@enron.com',\n",
       " 'vince.kaminski@enron.com'}"
      ]
     },
     "execution_count": 750,
     "metadata": {},
     "output_type": "execute_result"
    }
   ],
   "source": [
    "set(dec_emails)&set(apr_emails)"
   ]
  }
 ],
 "metadata": {
  "kernelspec": {
   "display_name": "Python 3",
   "language": "python",
   "name": "python3"
  },
  "language_info": {
   "codemirror_mode": {
    "name": "ipython",
    "version": 3
   },
   "file_extension": ".py",
   "mimetype": "text/x-python",
   "name": "python",
   "nbconvert_exporter": "python",
   "pygments_lexer": "ipython3",
   "version": "3.7.1"
  }
 },
 "nbformat": 4,
 "nbformat_minor": 2
}
